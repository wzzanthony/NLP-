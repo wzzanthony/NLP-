{
 "cells": [
  {
   "cell_type": "markdown",
   "metadata": {},
   "source": [
    "# Task0 赛题理解"
   ]
  },
  {
   "cell_type": "markdown",
   "metadata": {},
   "source": [
    "## 1.学习目标"
   ]
  },
  {
   "cell_type": "markdown",
   "metadata": {},
   "source": [
    "（1）报名比赛（报名链接：https://tianchi.aliyun.com/competition/entrance/531810/information）\n",
    "\n",
    "（2）理解赛题的解题思路与评判标准"
   ]
  },
  {
   "cell_type": "markdown",
   "metadata": {},
   "source": [
    "## 2.赛题数据"
   ]
  },
  {
   "cell_type": "markdown",
   "metadata": {},
   "source": [
    "赛题以新闻数据为赛题数据，数据集报名后可见并可下载。赛题数据为新闻文本，并按照字符级别进行匿名处理。整合划分出14个候选分类类别：财经、彩票、房产、股票、家居、教育、科技、社会、时尚、时政、体育、星座、游戏、娱乐的文本数据。\n",
    "赛题数据由以下几个部分构成：训练集20w条样本，测试集A包括5w条样本，测试集B包括5w条样本。为了预防选手人工标注测试集的情况，我们将比赛数据的文本按照字符级别进行了匿名处理。处理后的赛题训练数据如下："
   ]
  },
  {
   "cell_type": "markdown",
   "metadata": {},
   "source": [
    "![data.png](data.png)"
   ]
  },
  {
   "cell_type": "markdown",
   "metadata": {},
   "source": [
    "数据列使用\\t进行分割，Pandas读取数据的代码如下："
   ]
  },
  {
   "cell_type": "code",
   "execution_count": 3,
   "metadata": {},
   "outputs": [],
   "source": [
    "import pandas as pd\n",
    "train_df = pd.read_csv('../NLP_data_list_0715.csv', sep='\\t')"
   ]
  },
  {
   "cell_type": "markdown",
   "metadata": {},
   "source": [
    "## 3.评判标准"
   ]
  },
  {
   "cell_type": "markdown",
   "metadata": {},
   "source": [
    "评价标准为类别f1_score的均值，选手提交结果与实际测试集的类别进行对比，结果越大越好。\n",
    "\n",
    "$$F_1 = 2 * \\frac{precision * recall}{precision + recall} $$\n",
    "\n",
    "可以通过sklearn完成f1_score计算："
   ]
  },
  {
   "cell_type": "code",
   "execution_count": null,
   "metadata": {},
   "outputs": [],
   "source": [
    "from sklearn.metrics import f1_score\n",
    "y_true = [0, 1, 2, 0, 1, 2]\n",
    "y_pred = [0, 2, 1, 0, 0, 1]\n",
    "f1_score(y_true, y_pred, average='macro')"
   ]
  },
  {
   "cell_type": "markdown",
   "metadata": {},
   "source": [
    "提交格式应当和sample_submit.csv中的格式一致，提交文件后缀名为csv。"
   ]
  },
  {
   "cell_type": "markdown",
   "metadata": {},
   "source": [
    "## 4.解题思路"
   ]
  },
  {
   "cell_type": "markdown",
   "metadata": {},
   "source": [
    "（1）思路1：TF-IDF + 机器学习分类器\n",
    "\n",
    "直接使用TF-IDF对文本提取特征，并使用分类器进行分类。在分类器的选择上，可以使用SVM、LR、或者XGBoost。\n",
    "\n",
    "（2）思路2：FastText\n",
    "\n",
    "FastText是入门款的词向量，利用Facebook提供的FastText工具，可以快速构建出分类器。\n",
    "\n",
    "（3） 思路3：WordVec + 深度学习分类器\n",
    "\n",
    "WordVec是进阶款的词向量，并通过构建深度学习分类完成分类。深度学习分类的网络结构可以选择TextCNN、TextRNN或者BiLSTM。\n",
    "\n",
    "（4） 思路4：Bert词向量\n",
    "\n",
    "Bert是高配款的词向量，具有强大的建模学习能力。"
   ]
  },
  {
   "cell_type": "markdown",
   "metadata": {},
   "source": [
    "## 5.F1_score的数学原理（待补充）"
   ]
  },
  {
   "cell_type": "markdown",
   "metadata": {},
   "source": [
    "precision (also called positive predictive value) is the fraction of relevant instances among the retrieved instances, while recall (also known as sensitivity) is the fraction of the total amount of relevant instances that were actually retrieved.（摘自维基百科）"
   ]
  },
  {
   "cell_type": "markdown",
   "metadata": {},
   "source": [
    "Precision指的是在预测结果为Positive的情况下，其中预测正确的比率。 $$Precision = \\frac{TP}{TP + FP}$$\n",
    "\n",
    "Recall指的是在预测为Positive的情况下，预测正确的占该类别总数的比率 $$Recall = \\frac{TP}{TP + FN}$$\n",
    "\n",
    "我们对precision和recall的理解不能仅仅局限于二分类问题，他同样适用于多分类问题。这时候，positive指的是预测出正确结果的情况，而negative指的就是非正确结果的情况\n",
    "\n",
    "F1-Socre 从数学上，它被定义为精确率和召回率的调和平均数。从公式中我们可以看到，F1的大小，同时受 Precision 和 Recall 的影响，即 短板效应 ，所以 F1-Score 比直接平均的结果考虑更平衡，更能说明一个模型的好坏"
   ]
  },
  {
   "cell_type": "code",
   "execution_count": null,
   "metadata": {},
   "outputs": [],
   "source": []
  }
 ],
 "metadata": {
  "kernelspec": {
   "display_name": "Python 3.7.4 64-bit",
   "language": "python",
   "name": "python37464bitb3136b6a1a134bdbbe60830bb16671be"
  },
  "language_info": {
   "codemirror_mode": {
    "name": "ipython",
    "version": 3
   },
   "file_extension": ".py",
   "mimetype": "text/x-python",
   "name": "python",
   "nbconvert_exporter": "python",
   "pygments_lexer": "ipython3",
   "version": "3.7.4"
  }
 },
 "nbformat": 4,
 "nbformat_minor": 2
}
